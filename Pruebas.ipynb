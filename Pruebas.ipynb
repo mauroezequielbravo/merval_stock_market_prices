{
 "cells": [
  {
   "cell_type": "code",
   "execution_count": 27,
   "metadata": {},
   "outputs": [],
   "source": [
    "import pandas as pd\n",
    "import datetime"
   ]
  },
  {
   "cell_type": "code",
   "execution_count": 50,
   "metadata": {},
   "outputs": [
    {
     "name": "stdout",
     "output_type": "stream",
     "text": [
      "                       fecha    precio precioAnterior precioApertura  \\\n",
      "0 2024-08-11 19:14:13.926194  56510.00       56610.00       56700.00   \n",
      "1 2024-08-11 19:16:22.435557     43.70          43.38          43.50   \n",
      "\n",
      "  precioMaximo precioMinimo VolNominal       VolEfectivo VolPromedio  \\\n",
      "0     56970.00     56050.00     25.000  3.565.376.346,30           -   \n",
      "1        43.79        42.75        228        629.107,32           -   \n",
      "\n",
      "  VolumenPorc ticker  \n",
      "0          -%   AE38  \n",
      "1          -%  AE38D  \n"
     ]
    }
   ],
   "source": [
    "df = pd.read_parquet('data/data.parquet', engine='pyarrow')\n",
    "print(df)"
   ]
  },
  {
   "cell_type": "code",
   "execution_count": 33,
   "metadata": {},
   "outputs": [
    {
     "name": "stdout",
     "output_type": "stream",
     "text": [
      "<class 'dict'>\n"
     ]
    }
   ],
   "source": [
    "datos: dict = {'ticker': 'AE38', 'fecha': datetime.datetime(2024, 8, 11, 18, 12, 20, 303242), 'precio': '56510.00', 'precioAnterior': '56610.00', 'precioApertura': '56700.00', 'precioMaximo': '56970.00', 'precioMinimo': '56050.00', 'VolNominal': '25.000', 'VolEfectivo': '3.565.376.346,30', 'VolPromedio': '-', 'VolumenPorc': '-%'}\n",
    "print(type(datos))"
   ]
  },
  {
   "cell_type": "code",
   "execution_count": 34,
   "metadata": {},
   "outputs": [
    {
     "name": "stdout",
     "output_type": "stream",
     "text": [
      "{'ticker': 'AE38', 'fecha': datetime.datetime(2024, 8, 11, 18, 12, 20, 303242), 'precio': '56510.00', 'precioAnterior': '56610.00', 'precioApertura': '56700.00', 'precioMaximo': '56970.00', 'precioMinimo': '56050.00', 'VolNominal': '25.000', 'VolEfectivo': '3.565.376.346,30', 'VolPromedio': '-', 'VolumenPorc': '-%'}\n"
     ]
    }
   ],
   "source": [
    "print(datos)"
   ]
  },
  {
   "cell_type": "code",
   "execution_count": 35,
   "metadata": {},
   "outputs": [
    {
     "data": {
      "text/html": [
       "<div>\n",
       "<style scoped>\n",
       "    .dataframe tbody tr th:only-of-type {\n",
       "        vertical-align: middle;\n",
       "    }\n",
       "\n",
       "    .dataframe tbody tr th {\n",
       "        vertical-align: top;\n",
       "    }\n",
       "\n",
       "    .dataframe thead th {\n",
       "        text-align: right;\n",
       "    }\n",
       "</style>\n",
       "<table border=\"1\" class=\"dataframe\">\n",
       "  <thead>\n",
       "    <tr style=\"text-align: right;\">\n",
       "      <th></th>\n",
       "      <th>ticker</th>\n",
       "      <th>fecha</th>\n",
       "      <th>precio</th>\n",
       "      <th>precioAnterior</th>\n",
       "      <th>precioApertura</th>\n",
       "      <th>precioMaximo</th>\n",
       "      <th>precioMinimo</th>\n",
       "      <th>VolNominal</th>\n",
       "      <th>VolEfectivo</th>\n",
       "      <th>VolPromedio</th>\n",
       "      <th>VolumenPorc</th>\n",
       "    </tr>\n",
       "  </thead>\n",
       "  <tbody>\n",
       "    <tr>\n",
       "      <th>0</th>\n",
       "      <td>AE38</td>\n",
       "      <td>2024-08-11 18:12:20.303242</td>\n",
       "      <td>56510.00</td>\n",
       "      <td>56610.00</td>\n",
       "      <td>56700.00</td>\n",
       "      <td>56970.00</td>\n",
       "      <td>56050.00</td>\n",
       "      <td>25.000</td>\n",
       "      <td>3.565.376.346,30</td>\n",
       "      <td>-</td>\n",
       "      <td>-%</td>\n",
       "    </tr>\n",
       "  </tbody>\n",
       "</table>\n",
       "</div>"
      ],
      "text/plain": [
       "  ticker                      fecha    precio precioAnterior precioApertura  \\\n",
       "0   AE38 2024-08-11 18:12:20.303242  56510.00       56610.00       56700.00   \n",
       "\n",
       "  precioMaximo precioMinimo VolNominal       VolEfectivo VolPromedio  \\\n",
       "0     56970.00     56050.00     25.000  3.565.376.346,30           -   \n",
       "\n",
       "  VolumenPorc  \n",
       "0          -%  "
      ]
     },
     "execution_count": 35,
     "metadata": {},
     "output_type": "execute_result"
    }
   ],
   "source": [
    "df_data = pd.DataFrame([datos])\n",
    "df_data"
   ]
  },
  {
   "cell_type": "code",
   "execution_count": 40,
   "metadata": {},
   "outputs": [
    {
     "name": "stdout",
     "output_type": "stream",
     "text": [
      "Index(['fecha', 'precio', 'precioAnterior', 'precioApertura', 'precioMaximo',\n",
      "       'precioMinimo', 'VolNominal', 'VolEfectivo', 'VolPromedio',\n",
      "       'VolumenPorc'],\n",
      "      dtype='object')\n"
     ]
    }
   ],
   "source": [
    "print(df.columns)"
   ]
  },
  {
   "cell_type": "code",
   "execution_count": 37,
   "metadata": {},
   "outputs": [
    {
     "name": "stdout",
     "output_type": "stream",
     "text": [
      "Index(['ticker', 'fecha', 'precio', 'precioAnterior', 'precioApertura',\n",
      "       'precioMaximo', 'precioMinimo', 'VolNominal', 'VolEfectivo',\n",
      "       'VolPromedio', 'VolumenPorc'],\n",
      "      dtype='object')\n"
     ]
    }
   ],
   "source": [
    "print(df_data.columns)"
   ]
  },
  {
   "cell_type": "code",
   "execution_count": 22,
   "metadata": {},
   "outputs": [
    {
     "ename": "AttributeError",
     "evalue": "'DataFrame' object has no attribute 'concat'",
     "output_type": "error",
     "traceback": [
      "\u001b[1;31m---------------------------------------------------------------------------\u001b[0m",
      "\u001b[1;31mAttributeError\u001b[0m                            Traceback (most recent call last)",
      "\u001b[1;32m~\\AppData\\Local\\Temp\\ipykernel_17912\\530141529.py\u001b[0m in \u001b[0;36m?\u001b[1;34m()\u001b[0m\n\u001b[1;32m----> 1\u001b[1;33m \u001b[0mdf\u001b[0m\u001b[1;33m.\u001b[0m\u001b[0mconcat\u001b[0m\u001b[1;33m(\u001b[0m\u001b[0mdf_data\u001b[0m\u001b[1;33m)\u001b[0m\u001b[1;33m\u001b[0m\u001b[1;33m\u001b[0m\u001b[0m\n\u001b[0m",
      "\u001b[1;32mc:\\Users\\mauro\\GitHub\\merval_stock_market_prices\\venv\\Lib\\site-packages\\pandas\\core\\generic.py\u001b[0m in \u001b[0;36m?\u001b[1;34m(self, name)\u001b[0m\n\u001b[0;32m   6295\u001b[0m             \u001b[1;32mand\u001b[0m \u001b[0mname\u001b[0m \u001b[1;32mnot\u001b[0m \u001b[1;32min\u001b[0m \u001b[0mself\u001b[0m\u001b[1;33m.\u001b[0m\u001b[0m_accessors\u001b[0m\u001b[1;33m\u001b[0m\u001b[1;33m\u001b[0m\u001b[0m\n\u001b[0;32m   6296\u001b[0m             \u001b[1;32mand\u001b[0m \u001b[0mself\u001b[0m\u001b[1;33m.\u001b[0m\u001b[0m_info_axis\u001b[0m\u001b[1;33m.\u001b[0m\u001b[0m_can_hold_identifiers_and_holds_name\u001b[0m\u001b[1;33m(\u001b[0m\u001b[0mname\u001b[0m\u001b[1;33m)\u001b[0m\u001b[1;33m\u001b[0m\u001b[1;33m\u001b[0m\u001b[0m\n\u001b[0;32m   6297\u001b[0m         ):\n\u001b[0;32m   6298\u001b[0m             \u001b[1;32mreturn\u001b[0m \u001b[0mself\u001b[0m\u001b[1;33m[\u001b[0m\u001b[0mname\u001b[0m\u001b[1;33m]\u001b[0m\u001b[1;33m\u001b[0m\u001b[1;33m\u001b[0m\u001b[0m\n\u001b[1;32m-> 6299\u001b[1;33m         \u001b[1;32mreturn\u001b[0m \u001b[0mobject\u001b[0m\u001b[1;33m.\u001b[0m\u001b[0m__getattribute__\u001b[0m\u001b[1;33m(\u001b[0m\u001b[0mself\u001b[0m\u001b[1;33m,\u001b[0m \u001b[0mname\u001b[0m\u001b[1;33m)\u001b[0m\u001b[1;33m\u001b[0m\u001b[1;33m\u001b[0m\u001b[0m\n\u001b[0m",
      "\u001b[1;31mAttributeError\u001b[0m: 'DataFrame' object has no attribute 'concat'"
     ]
    }
   ],
   "source": [
    "df.concat(df_data)"
   ]
  },
  {
   "cell_type": "code",
   "execution_count": 12,
   "metadata": {},
   "outputs": [
    {
     "data": {
      "text/html": [
       "<div>\n",
       "<style scoped>\n",
       "    .dataframe tbody tr th:only-of-type {\n",
       "        vertical-align: middle;\n",
       "    }\n",
       "\n",
       "    .dataframe tbody tr th {\n",
       "        vertical-align: top;\n",
       "    }\n",
       "\n",
       "    .dataframe thead th {\n",
       "        text-align: right;\n",
       "    }\n",
       "</style>\n",
       "<table border=\"1\" class=\"dataframe\">\n",
       "  <thead>\n",
       "    <tr style=\"text-align: right;\">\n",
       "      <th></th>\n",
       "      <th>fecha</th>\n",
       "      <th>precio</th>\n",
       "      <th>precioAnterior</th>\n",
       "      <th>precioApertura</th>\n",
       "      <th>precioMaximo</th>\n",
       "      <th>precioMinimo</th>\n",
       "      <th>VolNominal</th>\n",
       "      <th>VolEfectivo</th>\n",
       "      <th>VolPromedio</th>\n",
       "      <th>VolumenPorc</th>\n",
       "    </tr>\n",
       "  </thead>\n",
       "  <tbody>\n",
       "  </tbody>\n",
       "</table>\n",
       "</div>"
      ],
      "text/plain": [
       "Empty DataFrame\n",
       "Columns: [fecha, precio, precioAnterior, precioApertura, precioMaximo, precioMinimo, VolNominal, VolEfectivo, VolPromedio, VolumenPorc]\n",
       "Index: []"
      ]
     },
     "execution_count": 12,
     "metadata": {},
     "output_type": "execute_result"
    }
   ],
   "source": [
    "df"
   ]
  }
 ],
 "metadata": {
  "kernelspec": {
   "display_name": "venv",
   "language": "python",
   "name": "python3"
  },
  "language_info": {
   "codemirror_mode": {
    "name": "ipython",
    "version": 3
   },
   "file_extension": ".py",
   "mimetype": "text/x-python",
   "name": "python",
   "nbconvert_exporter": "python",
   "pygments_lexer": "ipython3",
   "version": "3.11.1"
  }
 },
 "nbformat": 4,
 "nbformat_minor": 2
}
